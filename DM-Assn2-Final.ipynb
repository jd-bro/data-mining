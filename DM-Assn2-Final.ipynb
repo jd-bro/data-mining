{
 "cells": [
  {
   "cell_type": "code",
   "execution_count": 71,
   "metadata": {},
   "outputs": [],
   "source": [
    "import pandas as pd\n",
    "import numpy as np\n",
    "import matplotlib.pyplot as plt"
   ]
  },
  {
   "cell_type": "code",
   "execution_count": 113,
   "metadata": {},
   "outputs": [
    {
     "data": {
      "text/html": [
       "<div>\n",
       "<style scoped>\n",
       "    .dataframe tbody tr th:only-of-type {\n",
       "        vertical-align: middle;\n",
       "    }\n",
       "\n",
       "    .dataframe tbody tr th {\n",
       "        vertical-align: top;\n",
       "    }\n",
       "\n",
       "    .dataframe thead th {\n",
       "        text-align: right;\n",
       "    }\n",
       "</style>\n",
       "<table border=\"1\" class=\"dataframe\">\n",
       "  <thead>\n",
       "    <tr style=\"text-align: right;\">\n",
       "      <th></th>\n",
       "      <th>sepal_length</th>\n",
       "      <th>sepal_width</th>\n",
       "      <th>petal_length</th>\n",
       "      <th>petal_width</th>\n",
       "      <th>class</th>\n",
       "    </tr>\n",
       "  </thead>\n",
       "  <tbody>\n",
       "    <tr>\n",
       "      <th>0</th>\n",
       "      <td>6.4</td>\n",
       "      <td>2.8</td>\n",
       "      <td>5.6</td>\n",
       "      <td>2.1</td>\n",
       "      <td>Iris-virginica</td>\n",
       "    </tr>\n",
       "    <tr>\n",
       "      <th>1</th>\n",
       "      <td>5.0</td>\n",
       "      <td>2.3</td>\n",
       "      <td>3.3</td>\n",
       "      <td>1.0</td>\n",
       "      <td>Iris-versicolor</td>\n",
       "    </tr>\n",
       "    <tr>\n",
       "      <th>2</th>\n",
       "      <td>6.7</td>\n",
       "      <td>3.0</td>\n",
       "      <td>5.0</td>\n",
       "      <td>1.7</td>\n",
       "      <td>Iris-versicolor</td>\n",
       "    </tr>\n",
       "    <tr>\n",
       "      <th>3</th>\n",
       "      <td>6.9</td>\n",
       "      <td>3.1</td>\n",
       "      <td>5.4</td>\n",
       "      <td>2.1</td>\n",
       "      <td>Iris-virginica</td>\n",
       "    </tr>\n",
       "    <tr>\n",
       "      <th>4</th>\n",
       "      <td>5.5</td>\n",
       "      <td>2.6</td>\n",
       "      <td>4.4</td>\n",
       "      <td>1.2</td>\n",
       "      <td>Iris-versicolor</td>\n",
       "    </tr>\n",
       "  </tbody>\n",
       "</table>\n",
       "</div>"
      ],
      "text/plain": [
       "   sepal_length  sepal_width  petal_length  petal_width            class\n",
       "0           6.4          2.8           5.6          2.1   Iris-virginica\n",
       "1           5.0          2.3           3.3          1.0  Iris-versicolor\n",
       "2           6.7          3.0           5.0          1.7  Iris-versicolor\n",
       "3           6.9          3.1           5.4          2.1   Iris-virginica\n",
       "4           5.5          2.6           4.4          1.2  Iris-versicolor"
      ]
     },
     "execution_count": 113,
     "metadata": {},
     "output_type": "execute_result"
    }
   ],
   "source": [
    "names = [\"sepal_length\", \"sepal_width\", \"petal_length\", \"petal_width\", \"class\"]\n",
    "data = pd.read_csv(\"/home/jayadev/Downloads/iris.data\", names = names)\n",
    "data = data.sample(frac = 1).reset_index(drop = True)    # shuffle the data\n",
    "X = np.array(data.iloc[:, :2])\n",
    "y = data.iloc[:, 4]\n",
    "[m, n] = X.shape\n",
    "data.head(5)"
   ]
  },
  {
   "cell_type": "code",
   "execution_count": 114,
   "metadata": {},
   "outputs": [],
   "source": [
    "def Initialize(X, K):\n",
    "    perm = np.arange(X.shape[0])\n",
    "    np.random.shuffle(perm)\n",
    "    data_reorder = X[perm]\n",
    "    return data_reorder[:K]"
   ]
  },
  {
   "cell_type": "code",
   "execution_count": 115,
   "metadata": {},
   "outputs": [],
   "source": [
    "def closestCentroid(X, centroids):\n",
    "    m = X.shape[0]\n",
    "    K = centroids.shape[0]\n",
    "    idx = np.zeros([m, 1])\n",
    "    sicdIndividual = np.zeros(m)\n",
    "    sicd = []\n",
    "    for i in range(m):\n",
    "        error_sum = np.sum((X[i] - centroids) ** 2, 1)\n",
    "        sicdIndividual[i] = np.min(error_sum)\n",
    "        idx[i] = np.argmin(error_sum)\n",
    "    for i in range(K):\n",
    "        sicd.append(sicdIndividual[(i == idx).flatten()].sum())\n",
    "    return [idx, sicd]\n",
    "def compute(X, idx, K):\n",
    "    [m, n] = X.shape\n",
    "    centroids = np.zeros([K, n])\n",
    "    for i in range(K):\n",
    "        points = X[(i == idx).flatten()]\n",
    "        if (len(points) < 1): \n",
    "            centroids = np.zeros([1, n])\n",
    "            continue\n",
    "        centroids[i] = np.array([points.mean(axis = 0)])\n",
    "\n",
    "    return centroids"
   ]
  },
  {
   "cell_type": "code",
   "execution_count": 116,
   "metadata": {},
   "outputs": [],
   "source": [
    "def kMeans(X, K):\n",
    "    centroids = Initialize(X, K)\n",
    "    [m, n] = X.shape\n",
    "    sicd = np.zeros(m)\n",
    "    i = 0\n",
    "    while True:\n",
    "        [idx, sicdCurrent] = closestCentroid(X, centroids)\n",
    "        sicd = sicdCurrent\n",
    "        newCentroids = compute(X, idx, K)\n",
    "        i += 1\n",
    "        if (np.array_equal(newCentroids, centroids)):\n",
    "            break\n",
    "        centroids = newCentroids\n",
    "    centroids = newCentroids\n",
    "    \n",
    "    clusters = []\n",
    "    for k in range(K):\n",
    "        clusters.append(X[(k == idx).flatten()])\n",
    "    \n",
    "    return { \n",
    "            \"centroids\": centroids, \n",
    "            \"sicd\": sicd, \n",
    "            \"iterations\": i,\n",
    "            \"clusters\": clusters,\n",
    "            \"idx\": idx\n",
    "        }"
   ]
  },
  {
   "cell_type": "code",
   "execution_count": 117,
   "metadata": {},
   "outputs": [],
   "source": [
    "def bisectingKMeans(X, K):\n",
    "    clusters = [X]\n",
    "    sicd = [0]               \n",
    "    centroids = [[]]\n",
    "    idx = [[]]\n",
    "    while (len(clusters) < K):\n",
    "        sicdMaxPosition = sicd.index(max(sicd))\n",
    "        result = kMeans(clusters[sicdMaxPosition], 2)\n",
    "        clusters[sicdMaxPosition] = result[\"clusters\"][1]\n",
    "        clusters.insert(sicdMaxPosition, result[\"clusters\"][0])\n",
    "        centroids[sicdMaxPosition] = result[\"centroids\"][1]\n",
    "        centroids.insert(sicdMaxPosition, result[\"centroids\"][0])\n",
    "        sicd[sicdMaxPosition] = result[\"sicd\"][1]\n",
    "        sicd.insert(sicdMaxPosition, result[\"sicd\"][0])\n",
    "        \n",
    "    return { \"centroids\": np.array(centroids), \"sicd\": sicd, \"clusters\": clusters }"
   ]
  },
  {
   "cell_type": "code",
   "execution_count": 118,
   "metadata": {},
   "outputs": [
    {
     "name": "stdout",
     "output_type": "stream",
     "text": [
      "Centroids: \n",
      "(5.412000000000001, 2.6159999999999997)\n",
      "(5.016326530612246, 3.440816326530612)\n",
      "(6.518421052631579, 2.9486842105263156)\n",
      "\n",
      "Clusters are: \n",
      "\n",
      "Cluster: \n",
      "[[5.0, 2.3], [5.5, 2.6], [5.5, 2.5], [5.6, 2.9], [5.5, 2.4], [5.6, 3.0], [5.6, 3.0], [5.7, 2.5], [4.9, 2.5], [4.9, 2.4], [5.6, 2.8], [5.6, 2.7], [5.5, 2.3], [5.6, 2.5], [5.7, 3.0], [5.7, 2.6], [5.7, 2.9], [5.4, 3.0], [5.7, 2.8], [5.5, 2.4], [5.0, 2.0], [5.2, 2.7], [5.7, 2.8], [4.5, 2.3], [5.1, 2.5]] \n",
      "Cluster: \n",
      "[[5.0, 3.5], [5.7, 3.8], [5.0, 3.4], [5.0, 3.0], [5.0, 3.4], [4.4, 2.9], [4.6, 3.4], [5.1, 3.7], [4.9, 3.1], [5.7, 4.4], [5.2, 4.1], [4.9, 3.0], [5.0, 3.3], [4.9, 3.1], [5.1, 3.8], [5.4, 3.4], [5.0, 3.6], [4.4, 3.2], [5.5, 3.5], [4.6, 3.6], [5.4, 3.9], [5.2, 3.5], [4.6, 3.1], [5.1, 3.5], [4.4, 3.0], [5.3, 3.7], [5.2, 3.4], [5.1, 3.8], [4.8, 3.0], [4.7, 3.2], [4.6, 3.2], [5.1, 3.5], [5.1, 3.3], [5.1, 3.8], [4.8, 3.1], [5.4, 3.7], [5.4, 3.4], [5.8, 4.0], [4.8, 3.0], [4.3, 3.0], [4.8, 3.4], [5.0, 3.5], [4.8, 3.4], [4.7, 3.2], [5.5, 4.2], [4.9, 3.1], [5.1, 3.4], [5.4, 3.9], [5.0, 3.2]] \n",
      "Cluster: \n",
      "[[6.4, 2.8], [6.7, 3.0], [6.9, 3.1], [6.1, 3.0], [6.4, 2.8], [6.2, 2.2], [6.4, 3.2], [7.7, 2.6], [7.7, 2.8], [6.3, 2.7], [6.6, 3.0], [6.5, 3.0], [6.4, 2.9], [6.0, 3.4], [5.9, 3.2], [5.9, 3.0], [6.2, 2.9], [6.7, 3.1], [6.1, 3.0], [5.8, 2.7], [7.3, 2.9], [6.8, 3.2], [7.6, 3.0], [6.3, 2.8], [6.9, 3.1], [6.3, 2.5], [6.3, 2.5], [6.7, 3.3], [6.1, 2.9], [6.1, 2.8], [6.4, 3.2], [6.0, 3.0], [7.7, 3.8], [6.6, 2.9], [6.3, 2.9], [7.4, 2.8], [5.8, 2.8], [6.9, 3.2], [6.2, 3.4], [6.4, 2.7], [6.0, 2.2], [6.8, 3.0], [7.2, 3.0], [6.0, 2.2], [6.9, 3.1], [7.9, 3.8], [6.8, 2.8], [6.5, 3.2], [6.7, 3.3], [5.8, 2.6], [6.1, 2.8], [7.7, 3.0], [5.8, 2.7], [6.4, 3.1], [6.5, 3.0], [7.0, 3.2], [5.8, 2.7], [6.0, 2.7], [6.7, 2.5], [7.2, 3.2], [6.3, 3.3], [6.7, 3.1], [5.8, 2.7], [6.3, 3.4], [6.5, 3.0], [6.3, 2.3], [5.9, 3.0], [6.7, 3.0], [6.7, 3.1], [6.5, 2.8], [6.2, 2.8], [6.0, 2.9], [7.1, 3.0], [6.1, 2.6], [6.3, 3.3], [7.2, 3.6]] "
     ]
    }
   ],
   "source": [
    "K = 3\n",
    "results = bisectingKMeans(X, K)\n",
    "clusters = results[\"clusters\"]\n",
    "centroids = results[\"centroids\"]\n",
    "sicd = results[\"sicd\"]\n",
    "\n",
    "print(\"Centroids: \")\n",
    "for i in range(K):\n",
    "        print(\n",
    "              ( centroids[i][0], centroids[i][1]))\n",
    "\n",
    "print(\"\\nClusters are: \")\n",
    "for cluster in list(map(lambda a : a.tolist()[:X.shape[0]], clusters)):\n",
    "    print(\"\\nCluster: \")\n",
    "    print(cluster, end = \" \")"
   ]
  },
  {
   "cell_type": "code",
   "execution_count": 100,
   "metadata": {},
   "outputs": [
    {
     "name": "stdout",
     "output_type": "stream",
     "text": [
      "Sum of squared error is 84.224507\n"
     ]
    }
   ],
   "source": [
    "prevSicd = sum(sicd)\n",
    "print(\"Sum of squared error is %f\" % prevSicd)"
   ]
  },
  {
   "cell_type": "code",
   "execution_count": 119,
   "metadata": {},
   "outputs": [
    {
     "data": {
      "image/png": "[encoded data removed]",
      "text/plain": [
       "<Figure size 864x864 with 4 Axes>"
      ]
     },
     "metadata": {
      "needs_background": "light"
     },
     "output_type": "display_data"
    }
   ],
   "source": [
    "colors = [ \"red\", \"blue\", \"green\" ]\n",
    "_, plots = plt.subplots(n, n, figsize = (12, 12))\n",
    "\n",
    "for i in range(n):    \n",
    "    for j in range(n):\n",
    "        plots[i, j].set_xlabel(names[i])\n",
    "        plots[i, j].set_ylabel(names[j])\n",
    "        plots[i, j].set_xticklabels([])\n",
    "        plots[i, j].set_yticklabels([])\n",
    "        for k in range(K):\n",
    "            selection = clusters[k]\n",
    "            plots[i, j].scatter(selection[:, i], selection[:, j], color = colors[k], marker = \".\")\n",
    "        plots[i, j].scatter(centroids[:, i], centroids[:, j], color = \"black\", marker = \"o\", s = 100)"
   ]
  },
  {
   "cell_type": "code",
   "execution_count": 102,
   "metadata": {},
   "outputs": [],
   "source": [
    "K = 3\n",
    "iterations = 500\n",
    "sicd = []\n",
    "for i in range(iterations):\n",
    "    newResults = bisectingKMeans(X, K)\n",
    "        \n",
    "    if (len(sicd) == 0 or sicd[len(sicd) - 1] > sum(newResults[\"sicd\"])):\n",
    "        sicd.append(sum(newResults[\"sicd\"]))\n",
    "        results = newResults\n",
    "    else:\n",
    "        sicd.append(sicd[len(sicd) - 1])"
   ]
  },
  {
   "cell_type": "code",
   "execution_count": 109,
   "metadata": {},
   "outputs": [
    {
     "name": "stdout",
     "output_type": "stream",
     "text": [
      "Centroids: \n",
      "(5.00566037735849, 3.3603773584905676)\n",
      "(6.849999999999997, 3.073684210526315)\n",
      "(5.947457627118646, 2.7661016949152546)\n",
      "\n",
      "Sum of squared error is 84.224507\n",
      "\n",
      "\n",
      "\n",
      "\n",
      "Cluster: \n",
      "[[4.8, 3.0, 1.4, 0.3], [5.4, 3.7, 1.5, 0.2], [4.8, 3.4, 1.6, 0.2], [5.3, 3.7, 1.5, 0.2], [4.9, 3.1, 1.5, 0.1], [5.1, 3.5, 1.4, 0.3], [5.2, 3.5, 1.5, 0.2], [4.8, 3.4, 1.9, 0.2], [5.0, 3.3, 1.4, 0.2], [5.1, 2.5, 3.0, 1.1], [5.2, 4.1, 1.5, 0.1], [5.1, 3.8, 1.9, 0.4], [4.9, 3.1, 1.5, 0.1], [5.1, 3.7, 1.5, 0.4], [4.6, 3.4, 1.4, 0.3], [5.8, 4.0, 1.2, 0.2], [5.0, 3.5, 1.6, 0.6], [5.0, 3.2, 1.2, 0.2], [4.4, 3.2, 1.3, 0.2], [4.9, 3.0, 1.4, 0.2], [5.0, 3.4, 1.5, 0.2], [5.5, 3.5, 1.3, 0.2], [5.7, 4.4, 1.5, 0.4], [5.4, 3.4, 1.5, 0.4], [5.0, 3.5, 1.3, 0.3], [4.3, 3.0, 1.1, 0.1], [5.0, 3.0, 1.6, 0.2], [5.1, 3.8, 1.6, 0.2], [5.4, 3.9, 1.7, 0.4], [5.4, 3.9, 1.3, 0.4], [5.5, 4.2, 1.4, 0.2], [5.1, 3.5, 1.4, 0.2], [5.1, 3.4, 1.5, 0.2], [4.6, 3.1, 1.5, 0.2], [4.6, 3.6, 1.0, 0.2], [4.7, 3.2, 1.3, 0.2], [4.7, 3.2, 1.6, 0.2], [4.4, 3.0, 1.3, 0.2], [5.7, 3.8, 1.7, 0.3], [5.2, 3.4, 1.4, 0.2], [4.6, 3.2, 1.4, 0.2], [5.1, 3.3, 1.7, 0.5], [4.8, 3.0, 1.4, 0.1], [5.1, 3.8, 1.5, 0.3], [4.9, 2.4, 3.3, 1.0], [4.9, 3.1, 1.5, 0.1], [5.4, 3.4, 1.7, 0.2], [4.4, 2.9, 1.4, 0.2], [5.0, 3.6, 1.4, 0.2], [5.0, 2.3, 3.3, 1.0], [5.0, 3.4, 1.6, 0.4], [4.8, 3.1, 1.6, 0.2], [4.5, 2.3, 1.3, 0.3]] \n",
      "\n",
      "\n",
      "\n",
      "Cluster: \n",
      "[[6.4, 3.1, 5.5, 1.8], [6.9, 3.1, 4.9, 1.5], [6.2, 3.4, 5.4, 2.3], [6.8, 3.2, 5.9, 2.3], [6.5, 3.0, 5.2, 2.0], [6.9, 3.2, 5.7, 2.3], [6.7, 3.0, 5.2, 2.3], [6.4, 3.2, 5.3, 2.3], [6.7, 2.5, 5.8, 1.8], [7.7, 3.0, 6.1, 2.3], [6.3, 3.3, 6.0, 2.5], [6.1, 2.6, 5.6, 1.4], [6.5, 3.2, 5.1, 2.0], [6.5, 3.0, 5.8, 2.2], [6.3, 3.4, 5.6, 2.4], [7.9, 3.8, 6.4, 2.0], [6.8, 3.0, 5.5, 2.1], [7.7, 2.8, 6.7, 2.0], [7.3, 2.9, 6.3, 1.8], [7.2, 3.2, 6.0, 1.8], [7.2, 3.6, 6.1, 2.5], [7.4, 2.8, 6.1, 1.9], [6.3, 2.9, 5.6, 1.8], [6.9, 3.1, 5.1, 2.3], [6.5, 3.0, 5.5, 1.8], [6.4, 2.8, 5.6, 2.2], [7.6, 3.0, 6.6, 2.1], [6.7, 3.1, 5.6, 2.4], [7.2, 3.0, 5.8, 1.6], [6.9, 3.1, 5.4, 2.1], [6.7, 3.0, 5.0, 1.7], [7.7, 3.8, 6.7, 2.2], [6.4, 2.7, 5.3, 1.9], [6.7, 3.3, 5.7, 2.5], [6.7, 3.3, 5.7, 2.1], [7.7, 2.6, 6.9, 2.3], [7.1, 3.0, 5.9, 2.1], [6.4, 2.8, 5.6, 2.1]] \n",
      "\n",
      "\n",
      "\n",
      "Cluster: \n",
      "[[6.3, 2.7, 4.9, 1.8], [6.7, 3.1, 4.4, 1.4], [5.7, 2.9, 4.2, 1.3], [6.2, 2.9, 4.3, 1.3], [6.0, 2.2, 4.0, 1.0], [5.6, 2.7, 4.2, 1.3], [5.6, 3.0, 4.5, 1.5], [6.1, 2.9, 4.7, 1.4], [5.6, 2.9, 3.6, 1.3], [5.9, 3.2, 4.8, 1.8], [6.1, 2.8, 4.7, 1.2], [5.4, 3.0, 4.5, 1.5], [5.7, 2.8, 4.5, 1.3], [7.0, 3.2, 4.7, 1.4], [5.8, 2.7, 5.1, 1.9], [5.7, 2.5, 5.0, 2.0], [6.0, 2.2, 5.0, 1.5], [5.5, 2.4, 3.8, 1.1], [5.5, 2.3, 4.0, 1.3], [5.9, 3.0, 4.2, 1.5], [5.5, 2.5, 4.0, 1.3], [6.7, 3.1, 4.7, 1.5], [6.1, 2.8, 4.0, 1.3], [5.7, 3.0, 4.2, 1.2], [5.9, 3.0, 5.1, 1.8], [6.8, 2.8, 4.8, 1.4], [5.2, 2.7, 3.9, 1.4], [6.0, 2.7, 5.1, 1.6], [5.5, 2.6, 4.4, 1.2], [6.5, 2.8, 4.6, 1.5], [6.3, 2.3, 4.4, 1.3], [6.1, 3.0, 4.9, 1.8], [6.3, 2.8, 5.1, 1.5], [5.8, 2.7, 5.1, 1.9], [5.8, 2.7, 4.1, 1.0], [6.0, 3.0, 4.8, 1.8], [5.8, 2.7, 3.9, 1.2], [5.8, 2.8, 5.1, 2.4], [6.0, 2.9, 4.5, 1.5], [5.6, 3.0, 4.1, 1.3], [5.8, 2.6, 4.0, 1.2], [5.6, 2.8, 4.9, 2.0], [5.7, 2.8, 4.1, 1.3], [5.7, 2.6, 3.5, 1.0], [6.4, 3.2, 4.5, 1.5], [5.5, 2.4, 3.7, 1.0], [6.3, 2.5, 4.9, 1.5], [6.1, 3.0, 4.6, 1.4], [6.2, 2.8, 4.8, 1.8], [4.9, 2.5, 4.5, 1.7], [5.6, 2.5, 3.9, 1.1], [5.0, 2.0, 3.5, 1.0], [6.0, 3.4, 4.5, 1.6], [6.3, 2.5, 5.0, 1.9], [6.6, 2.9, 4.6, 1.3], [6.6, 3.0, 4.4, 1.4], [6.2, 2.2, 4.5, 1.5], [6.4, 2.9, 4.3, 1.3], [6.3, 3.3, 4.7, 1.6]] "
     ]
    }
   ],
   "source": [
    "clusters = results[\"clusters\"]\n",
    "centroids = results[\"centroids\"]\n",
    "\n",
    "print(\"Centroids: \")\n",
    "for i in range(K):\n",
    "        print(\n",
    "              (centroids[i][0], centroids[i][1]))\n",
    "        \n",
    "print(\"\\nSum of squared error is %f\" % (sicd[iterations - 1]))\n",
    "\n",
    "\n",
    "for cluster in list(map(lambda a : a.tolist()[:X.shape[0]], clusters)):\n",
    "    print(\"\\n\\n\\n\\nCluster: \")\n",
    "    print(cluster, end = \" \")"
   ]
  },
  {
   "cell_type": "code",
   "execution_count": 104,
   "metadata": {},
   "outputs": [],
   "source": [
    "K = 3\n",
    "iterations = 500\n",
    "sicdKMeans = []\n",
    "for i in range(iterations):\n",
    "    newKMeans = kMeans(X, K)\n",
    "    \n",
    "    if (len(sicdKMeans) == 0 or sicdKMeans[len(sicdKMeans) - 1] > sum(newKMeans[\"sicd\"])):\n",
    "        sicdKMeans.append(sum(newKMeans[\"sicd\"]))\n",
    "        kMeansResult = newKMeans\n",
    "    else:\n",
    "        sicdKMeans.append(sicdKMeans[len(sicdKMeans) - 1])"
   ]
  },
  {
   "cell_type": "code",
   "execution_count": 64,
   "metadata": {},
   "outputs": [
    {
     "data": {
      "image/png": "[encoded data removed]",
      "text/plain": [
       "<Figure size 864x288 with 2 Axes>"
      ]
     },
     "metadata": {
      "needs_background": "light"
     },
     "output_type": "display_data"
    },
    {
     "name": "stdout",
     "output_type": "stream",
     "text": [
      "SICD values are:\n",
      "    K Means          : 78.9408 \n",
      "    Bisecting K Means: 84.2245\n"
     ]
    }
   ],
   "source": [
    "_, plots = plt.subplots(1, 2, figsize = (12, 4))\n",
    "plots[1].set_title(\"Bisecting K Means\")\n",
    "plots[0].set_title(\"K Means\")\n",
    "plots[0].set_xlabel(\"Iterations\")\n",
    "plots[0].set_ylabel(\"SCID value\")\n",
    "plots[1].set_xlabel(\"Iterations\")\n",
    "plots[1].set_ylabel(\"SCID value\")\n",
    "plots[0].plot(np.arange(iterations), sicd, color = \"red\")\n",
    "plots[1].plot(np.arange(iterations), sicdKMeans, color = \"blue\")\n",
    "plt.show()\n",
    "\n",
    "print(\"\"\"SICD values are:\n",
    "    K Means          : %.4f \n",
    "    Bisecting K Means: %.4f\"\"\" % (sicdKMeans[-1], sicd[-1]))"
   ]
  },
  {
   "cell_type": "code",
   "execution_count": null,
   "metadata": {},
   "outputs": [],
   "source": []
  }
 ],
 "metadata": {
  "kernelspec": {
   "display_name": "Python 3",
   "language": "python",
   "name": "python3"
  },
  "language_info": {
   "codemirror_mode": {
    "name": "ipython",
    "version": 3
   },
   "file_extension": ".py",
   "mimetype": "text/x-python",
   "name": "python",
   "nbconvert_exporter": "python",
   "pygments_lexer": "ipython3",
   "version": "3.8.5"
  }
 },
 "nbformat": 4,
 "nbformat_minor": 4
}
