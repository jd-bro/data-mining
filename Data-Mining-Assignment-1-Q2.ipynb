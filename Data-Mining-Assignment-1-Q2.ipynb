{
 "cells": [
  {
   "cell_type": "code",
   "execution_count": 331,
   "metadata": {},
   "outputs": [],
   "source": [
    "import pandas as pd\n",
    "import numpy as np\n",
    "import matplotlib.pyplot as plt\n",
    "from sklearn import datasets\n",
    "np.random.seed(42)"
   ]
  },
  {
   "cell_type": "markdown",
   "metadata": {},
   "source": [
    "# Loading The Dataset"
   ]
  },
  {
   "cell_type": "code",
   "execution_count": 332,
   "metadata": {},
   "outputs": [],
   "source": [
    "iris = datasets.load_iris()\n"
   ]
  },
  {
   "cell_type": "code",
   "execution_count": 333,
   "metadata": {},
   "outputs": [],
   "source": [
    "df = pd.DataFrame({\n",
    "    'x': iris.data[:,0],\n",
    "    'y': iris.data[:,1],\n",
    "    'cluster' : iris.target\n",
    "})"
   ]
  },
  {
   "cell_type": "markdown",
   "metadata": {},
   "source": [
    "SHUFFLING DATA"
   ]
  },
  {
   "cell_type": "code",
   "execution_count": 334,
   "metadata": {},
   "outputs": [
    {
     "data": {
      "text/html": [
       "<div>\n",
       "<style scoped>\n",
       "    .dataframe tbody tr th:only-of-type {\n",
       "        vertical-align: middle;\n",
       "    }\n",
       "\n",
       "    .dataframe tbody tr th {\n",
       "        vertical-align: top;\n",
       "    }\n",
       "\n",
       "    .dataframe thead th {\n",
       "        text-align: right;\n",
       "    }\n",
       "</style>\n",
       "<table border=\"1\" class=\"dataframe\">\n",
       "  <thead>\n",
       "    <tr style=\"text-align: right;\">\n",
       "      <th></th>\n",
       "      <th>x</th>\n",
       "      <th>y</th>\n",
       "      <th>cluster</th>\n",
       "    </tr>\n",
       "  </thead>\n",
       "  <tbody>\n",
       "    <tr>\n",
       "      <th>73</th>\n",
       "      <td>6.1</td>\n",
       "      <td>2.8</td>\n",
       "      <td>1</td>\n",
       "    </tr>\n",
       "    <tr>\n",
       "      <th>18</th>\n",
       "      <td>5.7</td>\n",
       "      <td>3.8</td>\n",
       "      <td>0</td>\n",
       "    </tr>\n",
       "    <tr>\n",
       "      <th>118</th>\n",
       "      <td>7.7</td>\n",
       "      <td>2.6</td>\n",
       "      <td>2</td>\n",
       "    </tr>\n",
       "    <tr>\n",
       "      <th>78</th>\n",
       "      <td>6.0</td>\n",
       "      <td>2.9</td>\n",
       "      <td>1</td>\n",
       "    </tr>\n",
       "    <tr>\n",
       "      <th>76</th>\n",
       "      <td>6.8</td>\n",
       "      <td>2.8</td>\n",
       "      <td>1</td>\n",
       "    </tr>\n",
       "    <tr>\n",
       "      <th>...</th>\n",
       "      <td>...</td>\n",
       "      <td>...</td>\n",
       "      <td>...</td>\n",
       "    </tr>\n",
       "    <tr>\n",
       "      <th>71</th>\n",
       "      <td>6.1</td>\n",
       "      <td>2.8</td>\n",
       "      <td>1</td>\n",
       "    </tr>\n",
       "    <tr>\n",
       "      <th>106</th>\n",
       "      <td>4.9</td>\n",
       "      <td>2.5</td>\n",
       "      <td>2</td>\n",
       "    </tr>\n",
       "    <tr>\n",
       "      <th>14</th>\n",
       "      <td>5.8</td>\n",
       "      <td>4.0</td>\n",
       "      <td>0</td>\n",
       "    </tr>\n",
       "    <tr>\n",
       "      <th>92</th>\n",
       "      <td>5.8</td>\n",
       "      <td>2.6</td>\n",
       "      <td>1</td>\n",
       "    </tr>\n",
       "    <tr>\n",
       "      <th>102</th>\n",
       "      <td>7.1</td>\n",
       "      <td>3.0</td>\n",
       "      <td>2</td>\n",
       "    </tr>\n",
       "  </tbody>\n",
       "</table>\n",
       "<p>150 rows × 3 columns</p>\n",
       "</div>"
      ],
      "text/plain": [
       "       x    y  cluster\n",
       "73   6.1  2.8        1\n",
       "18   5.7  3.8        0\n",
       "118  7.7  2.6        2\n",
       "78   6.0  2.9        1\n",
       "76   6.8  2.8        1\n",
       "..   ...  ...      ...\n",
       "71   6.1  2.8        1\n",
       "106  4.9  2.5        2\n",
       "14   5.8  4.0        0\n",
       "92   5.8  2.6        1\n",
       "102  7.1  3.0        2\n",
       "\n",
       "[150 rows x 3 columns]"
      ]
     },
     "execution_count": 334,
     "metadata": {},
     "output_type": "execute_result"
    }
   ],
   "source": [
    "df.sample(frac=1)"
   ]
  },
  {
   "cell_type": "markdown",
   "metadata": {},
   "source": [
    "# INITIALIZING CENTROIDS"
   ]
  },
  {
   "cell_type": "code",
   "execution_count": 335,
   "metadata": {},
   "outputs": [],
   "source": [
    "\n",
    "centroids = {}\n",
    "for i in range(3):\n",
    "    \n",
    "    centroids[i] = [df['x'][i],df['y'][i]]"
   ]
  },
  {
   "cell_type": "code",
   "execution_count": 336,
   "metadata": {},
   "outputs": [
    {
     "data": {
      "text/plain": [
       "{0: [5.1, 3.5], 1: [4.9, 3.0], 2: [4.7, 3.2]}"
      ]
     },
     "execution_count": 336,
     "metadata": {},
     "output_type": "execute_result"
    }
   ],
   "source": [
    "centroids"
   ]
  },
  {
   "cell_type": "code",
   "execution_count": 337,
   "metadata": {},
   "outputs": [
    {
     "data": {
      "image/png": "[encoded data removed]",
      "text/plain": [
       "<Figure size 432x288 with 1 Axes>"
      ]
     },
     "metadata": {
      "needs_background": "light"
     },
     "output_type": "display_data"
    }
   ],
   "source": [
    "colmap = {0: 'r', 1: 'g', 2: 'b'}\n",
    "for i in range(3):\n",
    "    plt.scatter(centroids[i][0],centroids[i][1], color=colmap[i])\n",
    "plt.show()"
   ]
  },
  {
   "cell_type": "markdown",
   "metadata": {},
   "source": [
    "# ASSIGNING VALUES TO CLUSTERS"
   ]
  },
  {
   "cell_type": "code",
   "execution_count": 338,
   "metadata": {},
   "outputs": [],
   "source": [
    "def assignment(df, centroids):\n",
    "    \n",
    "    for i in range(3):\n",
    "        # sqrt((x1 - x2)^2 + (y1 - y2)^2)\n",
    "        df['distance_from_{}'.format(i)] = (\n",
    "            np.sqrt(\n",
    "                (df['x'] - centroids[i][0]) ** 2\n",
    "                + (df['y'] - centroids[i][1]) ** 2\n",
    "            )\n",
    "        )\n",
    "        \n",
    "    scid=pd.DataFrame([df['distance_from_{}'.format(0)],df['distance_from_{}'.format(1)], df['distance_from_{}'.format(2)]]).min()\n",
    "    centroid_distance_cols = ['distance_from_{}'.format(i) for i in centroids.keys()]\n",
    "\n",
    "    df['closest'] = df.loc[:, centroid_distance_cols].idxmin(axis=1)\n",
    "    df['closest'] = df['closest'].map(lambda x: int(x.lstrip('distance_from_')))\n",
    "    df['color'] = df['closest'].map(lambda x: colmap[x])\n",
    "       \n",
    "    return df,scid\n",
    "def update(k):\n",
    "    for i in range(3):\n",
    "        centroids[i][0] = np.mean(df[df['closest'] == i]['x'])\n",
    "        centroids[i][1] = np.mean(df[df['closest'] == i]['y'])\n",
    "    return k"
   ]
  },
  {
   "cell_type": "code",
   "execution_count": 339,
   "metadata": {},
   "outputs": [],
   "source": [
    "df,scid = assignment(df, centroids)"
   ]
  },
  {
   "cell_type": "markdown",
   "metadata": {},
   "source": [
    "INITIAL SSE VALUE"
   ]
  },
  {
   "cell_type": "code",
   "execution_count": 325,
   "metadata": {},
   "outputs": [
    {
     "data": {
      "text/plain": [
       "0      0.000000\n",
       "1      0.000000\n",
       "2      0.000000\n",
       "3      0.141421\n",
       "4      0.141421\n",
       "         ...   \n",
       "145    1.676305\n",
       "146    1.486607\n",
       "147    1.486607\n",
       "148    1.104536\n",
       "149    0.943398\n",
       "Length: 150, dtype: float64"
      ]
     },
     "execution_count": 325,
     "metadata": {},
     "output_type": "execute_result"
    }
   ],
   "source": [
    "scid"
   ]
  },
  {
   "cell_type": "code",
   "execution_count": 308,
   "metadata": {},
   "outputs": [
    {
     "data": {
      "text/plain": [
       "149.6238386558185"
      ]
     },
     "execution_count": 308,
     "metadata": {},
     "output_type": "execute_result"
    }
   ],
   "source": [
    "scid.sum()"
   ]
  },
  {
   "cell_type": "markdown",
   "metadata": {},
   "source": [
    "# RUNNING TILL CENTROIDS DO NOT CHANGE"
   ]
  },
  {
   "cell_type": "code",
   "execution_count": 309,
   "metadata": {},
   "outputs": [],
   "source": [
    "\n",
    "ssear=[]\n",
    "ssear.append(scid.sum())\n",
    "while True:\n",
    "    closest_centroids = df['closest'].copy(deep=True)\n",
    "    centroids = update(centroids)\n",
    "    df,scid = assignment(df, centroids)\n",
    "    ssear.append(scid.sum())\n",
    "    if closest_centroids.equals(df['closest']):\n",
    "        break"
   ]
  },
  {
   "cell_type": "markdown",
   "metadata": {},
   "source": [
    "# FINAL CLUSTERS AND CENTROIDS"
   ]
  },
  {
   "cell_type": "code",
   "execution_count": 310,
   "metadata": {},
   "outputs": [],
   "source": [
    "clusters=df['closest'].values"
   ]
  },
  {
   "cell_type": "code",
   "execution_count": 311,
   "metadata": {},
   "outputs": [
    {
     "data": {
      "text/plain": [
       "array([2, 2, 2, 2, 2, 2, 2, 2, 2, 2, 2, 2, 2, 2, 2, 2, 2, 2, 2, 2, 2, 2,\n",
       "       2, 2, 2, 2, 2, 2, 2, 2, 2, 2, 2, 2, 2, 2, 2, 2, 2, 2, 2, 2, 2, 2,\n",
       "       2, 2, 2, 2, 2, 2, 0, 0, 0, 1, 0, 1, 0, 1, 0, 1, 1, 1, 1, 1, 1, 0,\n",
       "       1, 1, 1, 1, 1, 1, 1, 1, 0, 0, 0, 0, 1, 1, 1, 1, 1, 1, 1, 1, 0, 1,\n",
       "       1, 1, 1, 1, 1, 1, 1, 1, 1, 1, 1, 1, 0, 1, 0, 0, 0, 0, 1, 0, 0, 0,\n",
       "       0, 0, 0, 1, 1, 0, 0, 0, 0, 1, 0, 1, 0, 1, 0, 0, 1, 1, 0, 0, 0, 0,\n",
       "       0, 1, 1, 0, 0, 0, 1, 0, 0, 0, 1, 0, 0, 0, 1, 0, 0, 1])"
      ]
     },
     "execution_count": 311,
     "metadata": {},
     "output_type": "execute_result"
    }
   ],
   "source": [
    "clusters"
   ]
  },
  {
   "cell_type": "code",
   "execution_count": 312,
   "metadata": {},
   "outputs": [
    {
     "data": {
      "text/plain": [
       "{0: [6.812765957446807, 3.074468085106383],\n",
       " 1: [5.773584905660377, 2.692452830188679],\n",
       " 2: [5.006, 3.428]}"
      ]
     },
     "execution_count": 312,
     "metadata": {},
     "output_type": "execute_result"
    }
   ],
   "source": [
    "centroids"
   ]
  },
  {
   "cell_type": "markdown",
   "metadata": {},
   "source": [
    "# FINAL SCATTER PLOT SHOWING CLUSTERS"
   ]
  },
  {
   "cell_type": "code",
   "execution_count": 313,
   "metadata": {},
   "outputs": [
    {
     "data": {
      "image/png": "[encoded data removed]",
      "text/plain": [
       "<Figure size 360x360 with 1 Axes>"
      ]
     },
     "metadata": {
      "needs_background": "light"
     },
     "output_type": "display_data"
    }
   ],
   "source": [
    "fig = plt.figure(figsize=(5, 5))\n",
    "plt.scatter(df['x'], df['y'], color=df['color'])\n",
    "for i in centroids.keys():\n",
    "    plt.scatter(centroids[i][0],centroids[i][1], color=colmap[i], edgecolor='k')\n",
    "\n",
    "plt.show()"
   ]
  },
  {
   "cell_type": "markdown",
   "metadata": {},
   "source": [
    "## FINAL SCID VALUE"
   ]
  },
  {
   "cell_type": "code",
   "execution_count": 346,
   "metadata": {},
   "outputs": [],
   "source": [
    "sse=scid.sum()"
   ]
  },
  {
   "cell_type": "code",
   "execution_count": 347,
   "metadata": {},
   "outputs": [
    {
     "data": {
      "text/plain": [
       "62.76402512603062"
      ]
     },
     "execution_count": 347,
     "metadata": {},
     "output_type": "execute_result"
    }
   ],
   "source": [
    "sse"
   ]
  },
  {
   "cell_type": "code",
   "execution_count": null,
   "metadata": {},
   "outputs": [],
   "source": []
  },
  {
   "cell_type": "code",
   "execution_count": 276,
   "metadata": {},
   "outputs": [
    {
     "data": {
      "text/plain": [
       "[81.55540806042816,\n",
       " 66.33266837479364,\n",
       " 62.99803557136471,\n",
       " 62.738104585638425,\n",
       " 62.74129185480632,\n",
       " 62.76402512603062]"
      ]
     },
     "execution_count": 276,
     "metadata": {},
     "output_type": "execute_result"
    }
   ],
   "source": [
    "ssear"
   ]
  },
  {
   "cell_type": "markdown",
   "metadata": {},
   "source": [
    "# RUNNNG FOR 150 ITERATIONS"
   ]
  },
  {
   "cell_type": "code",
   "execution_count": 343,
   "metadata": {},
   "outputs": [],
   "source": [
    "ssear1=[]\n",
    "iterations = 150\n",
    "for i in range(iterations):\n",
    "    closest_centroids = df['closest'].copy(deep=True)\n",
    "    centroids = update(centroids)\n",
    "    df,scid = assignment(df, centroids)\n",
    "    ssear1.append(scid.sum())"
   ]
  },
  {
   "cell_type": "markdown",
   "metadata": {},
   "source": [
    "CENTROIDS DO NOT CHANGE"
   ]
  },
  {
   "cell_type": "code",
   "execution_count": 327,
   "metadata": {},
   "outputs": [
    {
     "data": {
      "text/plain": [
       "{0: [6.812765957446807, 3.074468085106383],\n",
       " 1: [5.773584905660377, 2.692452830188679],\n",
       " 2: [5.006, 3.428]}"
      ]
     },
     "execution_count": 327,
     "metadata": {},
     "output_type": "execute_result"
    }
   ],
   "source": [
    "centroids"
   ]
  },
  {
   "cell_type": "code",
   "execution_count": 279,
   "metadata": {},
   "outputs": [],
   "source": [
    "sse=scid.sum()"
   ]
  },
  {
   "cell_type": "markdown",
   "metadata": {},
   "source": [
    "SSE DO NOT CHANGE"
   ]
  },
  {
   "cell_type": "code",
   "execution_count": 280,
   "metadata": {},
   "outputs": [
    {
     "data": {
      "text/plain": [
       "62.76402512603062"
      ]
     },
     "execution_count": 280,
     "metadata": {},
     "output_type": "execute_result"
    }
   ],
   "source": [
    "sse"
   ]
  },
  {
   "cell_type": "code",
   "execution_count": 295,
   "metadata": {},
   "outputs": [
    {
     "data": {
      "text/plain": [
       "[81.55540806042816,\n",
       " 66.33266837479364,\n",
       " 62.99803557136471,\n",
       " 62.738104585638425,\n",
       " 62.74129185480632,\n",
       " 62.76402512603062,\n",
       " 62.76402512603062,\n",
       " 62.76402512603062,\n",
       " 62.76402512603062,\n",
       " 62.76402512603062,\n",
       " 62.76402512603062,\n",
       " 62.76402512603062,\n",
       " 62.76402512603062,\n",
       " 62.76402512603062,\n",
       " 62.76402512603062,\n",
       " 62.76402512603062,\n",
       " 62.76402512603062,\n",
       " 62.76402512603062,\n",
       " 62.76402512603062,\n",
       " 62.76402512603062,\n",
       " 62.76402512603062,\n",
       " 62.76402512603062,\n",
       " 62.76402512603062,\n",
       " 62.76402512603062,\n",
       " 62.76402512603062,\n",
       " 62.76402512603062,\n",
       " 62.76402512603062,\n",
       " 62.76402512603062,\n",
       " 62.76402512603062,\n",
       " 62.76402512603062,\n",
       " 62.76402512603062,\n",
       " 62.76402512603062,\n",
       " 62.76402512603062,\n",
       " 62.76402512603062,\n",
       " 62.76402512603062,\n",
       " 62.76402512603062,\n",
       " 62.76402512603062,\n",
       " 62.76402512603062,\n",
       " 62.76402512603062,\n",
       " 62.76402512603062,\n",
       " 62.76402512603062,\n",
       " 62.76402512603062,\n",
       " 62.76402512603062,\n",
       " 62.76402512603062,\n",
       " 62.76402512603062,\n",
       " 62.76402512603062,\n",
       " 62.76402512603062,\n",
       " 62.76402512603062,\n",
       " 62.76402512603062,\n",
       " 62.76402512603062,\n",
       " 62.76402512603062,\n",
       " 62.76402512603062,\n",
       " 62.76402512603062,\n",
       " 62.76402512603062,\n",
       " 62.76402512603062,\n",
       " 62.76402512603062,\n",
       " 62.76402512603062,\n",
       " 62.76402512603062,\n",
       " 62.76402512603062,\n",
       " 62.76402512603062,\n",
       " 62.76402512603062,\n",
       " 62.76402512603062,\n",
       " 62.76402512603062,\n",
       " 62.76402512603062,\n",
       " 62.76402512603062,\n",
       " 62.76402512603062,\n",
       " 62.76402512603062,\n",
       " 62.76402512603062,\n",
       " 62.76402512603062,\n",
       " 62.76402512603062,\n",
       " 62.76402512603062,\n",
       " 62.76402512603062,\n",
       " 62.76402512603062,\n",
       " 62.76402512603062,\n",
       " 62.76402512603062,\n",
       " 62.76402512603062,\n",
       " 62.76402512603062,\n",
       " 62.76402512603062,\n",
       " 62.76402512603062,\n",
       " 62.76402512603062,\n",
       " 62.76402512603062,\n",
       " 62.76402512603062,\n",
       " 62.76402512603062,\n",
       " 62.76402512603062,\n",
       " 62.76402512603062,\n",
       " 62.76402512603062,\n",
       " 62.76402512603062,\n",
       " 62.76402512603062,\n",
       " 62.76402512603062,\n",
       " 62.76402512603062,\n",
       " 62.76402512603062,\n",
       " 62.76402512603062,\n",
       " 62.76402512603062,\n",
       " 62.76402512603062,\n",
       " 62.76402512603062,\n",
       " 62.76402512603062,\n",
       " 62.76402512603062,\n",
       " 62.76402512603062,\n",
       " 62.76402512603062,\n",
       " 62.76402512603062,\n",
       " 62.76402512603062,\n",
       " 62.76402512603062,\n",
       " 62.76402512603062,\n",
       " 62.76402512603062,\n",
       " 62.76402512603062,\n",
       " 62.76402512603062,\n",
       " 62.76402512603062,\n",
       " 62.76402512603062,\n",
       " 62.76402512603062,\n",
       " 62.76402512603062,\n",
       " 62.76402512603062,\n",
       " 62.76402512603062,\n",
       " 62.76402512603062,\n",
       " 62.76402512603062,\n",
       " 62.76402512603062,\n",
       " 62.76402512603062,\n",
       " 62.76402512603062,\n",
       " 62.76402512603062,\n",
       " 62.76402512603062,\n",
       " 62.76402512603062,\n",
       " 62.76402512603062,\n",
       " 62.76402512603062,\n",
       " 62.76402512603062,\n",
       " 62.76402512603062,\n",
       " 62.76402512603062,\n",
       " 62.76402512603062,\n",
       " 62.76402512603062,\n",
       " 62.76402512603062,\n",
       " 62.76402512603062,\n",
       " 62.76402512603062,\n",
       " 62.76402512603062,\n",
       " 62.76402512603062,\n",
       " 62.76402512603062,\n",
       " 62.76402512603062,\n",
       " 62.76402512603062,\n",
       " 62.76402512603062,\n",
       " 62.76402512603062,\n",
       " 62.76402512603062,\n",
       " 62.76402512603062,\n",
       " 62.76402512603062,\n",
       " 62.76402512603062,\n",
       " 62.76402512603062,\n",
       " 62.76402512603062,\n",
       " 62.76402512603062,\n",
       " 62.76402512603062,\n",
       " 62.76402512603062,\n",
       " 62.76402512603062,\n",
       " 62.76402512603062,\n",
       " 62.76402512603062,\n",
       " 62.76402512603062]"
      ]
     },
     "execution_count": 295,
     "metadata": {},
     "output_type": "execute_result"
    }
   ],
   "source": [
    "ssear1\n"
   ]
  },
  {
   "cell_type": "markdown",
   "metadata": {},
   "source": [
    "# PLOT BETWEEN SCID VALUES AND ITERATIONS"
   ]
  },
  {
   "cell_type": "code",
   "execution_count": 344,
   "metadata": {},
   "outputs": [
    {
     "data": {
      "image/png": "[encoded data removed]",
      "text/plain": [
       "<Figure size 432x288 with 1 Axes>"
      ]
     },
     "metadata": {
      "needs_background": "light"
     },
     "output_type": "display_data"
    }
   ],
   "source": [
    "plt.xlabel(\"Iterations\")\n",
    "plt.ylabel(\"SCID value\")\n",
    "plt.plot(np.arange(iterations), ssear1, color = \"red\")\n",
    "plt.show()"
   ]
  },
  {
   "cell_type": "code",
   "execution_count": 235,
   "metadata": {},
   "outputs": [
    {
     "data": {
      "text/plain": [
       "0      0.118406\n",
       "1      0.440931\n",
       "2      0.381602\n",
       "3      0.521939\n",
       "4      0.172105\n",
       "         ...   \n",
       "145    1.747232\n",
       "146    1.592363\n",
       "147    1.554098\n",
       "148    1.194328\n",
       "149    0.991171\n",
       "Name: distance_from_0, Length: 150, dtype: float64"
      ]
     },
     "execution_count": 235,
     "metadata": {},
     "output_type": "execute_result"
    }
   ],
   "source": [
    "df['distance_from_{}'.format(0)]"
   ]
  },
  {
   "cell_type": "code",
   "execution_count": 237,
   "metadata": {},
   "outputs": [
    {
     "data": {
      "text/plain": [
       "0      1.109863\n",
       "1      1.061224\n",
       "2      1.308662\n",
       "3      1.376153\n",
       "4      1.250998\n",
       "         ...   \n",
       "145    0.797870\n",
       "146    0.453206\n",
       "147    0.609094\n",
       "148    0.683078\n",
       "149    0.232800\n",
       "Name: distance_from_1, Length: 150, dtype: float64"
      ]
     },
     "execution_count": 237,
     "metadata": {},
     "output_type": "execute_result"
    }
   ],
   "source": [
    "df['distance_from_{}'.format(1)]"
   ]
  },
  {
   "cell_type": "code",
   "execution_count": 238,
   "metadata": {},
   "outputs": [
    {
     "data": {
      "text/plain": [
       "0      1.578233\n",
       "1      1.688200\n",
       "2      1.901478\n",
       "3      1.991989\n",
       "4      1.706933\n",
       "         ...   \n",
       "145    0.114978\n",
       "146    0.554635\n",
       "147    0.091761\n",
       "148    0.576212\n",
       "149    0.688491\n",
       "Name: distance_from_2, Length: 150, dtype: float64"
      ]
     },
     "execution_count": 238,
     "metadata": {},
     "output_type": "execute_result"
    }
   ],
   "source": [
    "df['distance_from_{}'.format(2)]"
   ]
  },
  {
   "cell_type": "code",
   "execution_count": null,
   "metadata": {},
   "outputs": [],
   "source": []
  }
 ],
 "metadata": {
  "kernelspec": {
   "display_name": "Python 3",
   "language": "python",
   "name": "python3"
  },
  "language_info": {
   "codemirror_mode": {
    "name": "ipython",
    "version": 3
   },
   "file_extension": ".py",
   "mimetype": "text/x-python",
   "name": "python",
   "nbconvert_exporter": "python",
   "pygments_lexer": "ipython3",
   "version": "3.8.2"
  }
 },
 "nbformat": 4,
 "nbformat_minor": 4
}
